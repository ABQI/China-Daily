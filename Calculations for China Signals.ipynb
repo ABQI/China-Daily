{
 "cells": [
  {
   "cell_type": "code",
   "execution_count": 35,
   "id": "cc323f16",
   "metadata": {},
   "outputs": [],
   "source": [
    "import pandas as pd\n",
    "import numpy as np\n",
    "import datetime as dt\n",
    "\n",
    "# Read in the market variables\n",
    "df = pd.read_pickle(\"China Daily Data.pickle\")\n",
    "\n",
    "# Calculate the 10d & 20d SMA of FXI and include as columns\n",
    "df[\"FXI_SMA_10\"] = df[\"FXI\"].rolling(10).mean()\n",
    "df[\"FXI_SMA_20\"] = df[\"FXI\"].rolling(20).mean()\n",
    "\n",
    "# Calculate current FXI vs 10d & 20d SMA respectively and include as columns\n",
    "df[\"FXI_vs_FXI_SMA_10\"] = df[\"FXI\"]/df[\"FXI_SMA_10\"]\n",
    "df[\"FXI_vs_FXI_SMA_20\"] = df[\"FXI\"]/df[\"FXI_SMA_20\"]\n",
    "\n",
    "# Calculate and include the slopes from linear regressions of FXI_vs_SMA_10 over 5d & 10d periods\n",
    "df[\"FXI_vs_FXI_SMA_10_Slope_5\"] = df[\"FXI_vs_FXI_SMA_10\"].rolling(5).apply(lambda x: np.polyfit(range(len(x)), x, 1)[0])\n",
    "df[\"FXI_vs_FXI_SMA_10_Slope_10\"] = df[\"FXI_vs_FXI_SMA_10\"].rolling(10).apply(lambda x: np.polyfit(range(len(x)), x, 1)[0])\n",
    "\n",
    "# Calculate and include the slopes from linear regressions of FXI_vs_SMA_20 over 25d & 50d periods\n",
    "df[\"FXI_vs_FXI_SMA_20_Slope_25\"] = df[\"FXI_vs_FXI_SMA_20\"].rolling(25).apply(lambda x: np.polyfit(range(len(x)), x, 1)[0])\n",
    "df[\"FXI_vs_FXI_SMA_20_Slope_50\"] = df[\"FXI_vs_FXI_SMA_20\"].rolling(50).apply(lambda x: np.polyfit(range(len(x)), x, 1)[0])\n",
    "\n",
    "# Manual input of the triggers for each of these slopes\n",
    "Trigger_Slope_5 = -0.0016\n",
    "Trigger_Slope_10 = 0.0021\n",
    "Trigger_Slope_25 = -0.0070\n",
    "Trigger_Slope_50 = 0.0016\n",
    "Trigger_FXI_vs_FXI_SMA_10_Upper = 1.0310\n",
    "Trigger_FXI_vs_FXI_SMA_10_Lower = 0.9630\n",
    "\n",
    "# Create a column of indicators for each slope indicating whether breached\n",
    "df[\"Signal_Slope_5\"] = df[\"FXI_vs_FXI_SMA_10_Slope_5\"].apply(lambda x: 1 if x > Trigger_Slope_5 else 0)\n",
    "df[\"Signal_Slope_10\"] = df[\"FXI_vs_FXI_SMA_10_Slope_10\"].apply(lambda x: 1 if x > Trigger_Slope_10 else 0)\n",
    "df[\"Signal_Slope_25\"] = df[\"FXI_vs_FXI_SMA_20_Slope_25\"].apply(lambda x: 1 if x > Trigger_Slope_25 else 0)\n",
    "df[\"Signal_Slope_50\"] = df[\"FXI_vs_FXI_SMA_20_Slope_50\"].apply(lambda x: 1 if x > Trigger_Slope_50 else 0)\n",
    "df[\"Signal_FXI_vs_FXI_SMA_10_Upper\"] = df[\"FXI_vs_FXI_SMA_10\"].apply(lambda x: 0 if x < Trigger_FXI_vs_FXI_SMA_10_Upper else -3)\n",
    "df[\"Signal_FXI_vs_FXI_SMA_10_Lower\"] = df[\"FXI_vs_FXI_SMA_10\"].apply(lambda x: 0 if x > Trigger_FXI_vs_FXI_SMA_10_Lower else +1)\n",
    "\n",
    "# Sum the indicators for each day\n",
    "Sum_Signals = df[\"Signal_Slope_5\"] + df[\"Signal_Slope_10\"] \\\n",
    "                + df[\"Signal_Slope_25\"] + df[\"Signal_Slope_50\"] \\\n",
    "                + df[\"Signal_FXI_vs_FXI_SMA_10_Upper\"] + df[\"Signal_FXI_vs_FXI_SMA_10_Lower\"]\n",
    "\n",
    "# Signal variable is then 1 if sum slope indicators >= 2\n",
    "df[\"Signal\"] = Sum_Signals.apply(lambda x: 1 if x >= 2 else 0)\n",
    "\n",
    "# Save the signals to an excel file\n",
    "df.to_excel(\"China Daily Signals.xlsx\")\n",
    "\n",
    "# Alco save the signals to a pickle file\n",
    "df.to_pickle(\"China Daily Signals.pickle\")"
   ]
  },
  {
   "cell_type": "code",
   "execution_count": 29,
   "id": "cc3935f4",
   "metadata": {},
   "outputs": [],
   "source": []
  },
  {
   "cell_type": "code",
   "execution_count": 5,
   "id": "aa5e8871",
   "metadata": {},
   "outputs": [],
   "source": [
    "# Set the start date and end date\n",
    "startdate = dt.date(2008, 1, 1)\n",
    "enddate = dt.date(2021, 9, 3)\n",
    "\n",
    "# Filter for the required period\n",
    "df = df[startdate : enddate]"
   ]
  },
  {
   "cell_type": "code",
   "execution_count": 30,
   "id": "f59e5286",
   "metadata": {},
   "outputs": [
    {
     "data": {
      "text/plain": [
       "0.6265646731571627"
      ]
     },
     "execution_count": 30,
     "metadata": {},
     "output_type": "execute_result"
    }
   ],
   "source": [
    "sum(df.Signal)/len(df)"
   ]
  },
  {
   "cell_type": "code",
   "execution_count": 31,
   "id": "75081792",
   "metadata": {},
   "outputs": [
    {
     "data": {
      "text/plain": [
       "0.5841446453407511"
      ]
     },
     "execution_count": 31,
     "metadata": {},
     "output_type": "execute_result"
    }
   ],
   "source": [
    "sum(df.Signal_Slope_5)/len(df)"
   ]
  },
  {
   "cell_type": "code",
   "execution_count": 32,
   "id": "3c514124",
   "metadata": {},
   "outputs": [
    {
     "data": {
      "text/plain": [
       "0.31525266573945293"
      ]
     },
     "execution_count": 32,
     "metadata": {},
     "output_type": "execute_result"
    }
   ],
   "source": [
    "sum(df.Signal_Slope_10)/len(df)"
   ]
  },
  {
   "cell_type": "code",
   "execution_count": 33,
   "id": "fec610c6",
   "metadata": {},
   "outputs": [
    {
     "data": {
      "text/plain": [
       "0.9809921186833566"
      ]
     },
     "execution_count": 33,
     "metadata": {},
     "output_type": "execute_result"
    }
   ],
   "source": [
    "sum(df.Signal_Slope_20)/len(df)"
   ]
  },
  {
   "cell_type": "code",
   "execution_count": 34,
   "id": "5f9fb0fc",
   "metadata": {},
   "outputs": [
    {
     "data": {
      "text/plain": [
       "0.08623087621696801"
      ]
     },
     "execution_count": 34,
     "metadata": {},
     "output_type": "execute_result"
    }
   ],
   "source": [
    "sum(df.Signal_Slope_50)/len(df)"
   ]
  },
  {
   "cell_type": "code",
   "execution_count": null,
   "id": "e799fac1",
   "metadata": {},
   "outputs": [],
   "source": []
  },
  {
   "cell_type": "code",
   "execution_count": null,
   "id": "70a80a50",
   "metadata": {},
   "outputs": [],
   "source": []
  }
 ],
 "metadata": {
  "kernelspec": {
   "display_name": "Python 3",
   "language": "python",
   "name": "python3"
  },
  "language_info": {
   "codemirror_mode": {
    "name": "ipython",
    "version": 3
   },
   "file_extension": ".py",
   "mimetype": "text/x-python",
   "name": "python",
   "nbconvert_exporter": "python",
   "pygments_lexer": "ipython3",
   "version": "3.8.8"
  }
 },
 "nbformat": 4,
 "nbformat_minor": 5
}
