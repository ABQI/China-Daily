{
 "cells": [
  {
   "cell_type": "code",
   "execution_count": 2,
   "id": "a60a69fb",
   "metadata": {},
   "outputs": [],
   "source": [
    "import pandas as pd\n",
    "import numpy as np\n",
    "import datetime as dt"
   ]
  },
  {
   "cell_type": "code",
   "execution_count": 3,
   "id": "575bdbcd",
   "metadata": {},
   "outputs": [],
   "source": [
    "# Retrieve the signals, allocations and leverage from the saved files\n",
    "df_sig = pd.read_pickle(\"China Daily Signals.pickle\")\n",
    "df_lev = pd.read_pickle(\"China Daily Leverage.pickle\")"
   ]
  },
  {
   "cell_type": "code",
   "execution_count": 5,
   "id": "9f5fc65a",
   "metadata": {},
   "outputs": [],
   "source": [
    "# Create a dataframe with the signal variable\n",
    "# Shift signal down one so that each day has the previous days signal\n",
    "df = pd.DataFrame(data=df_sig[\"Signal\"].shift(+1), index=df_sig.index)"
   ]
  },
  {
   "cell_type": "code",
   "execution_count": 6,
   "id": "658ec83e",
   "metadata": {},
   "outputs": [],
   "source": [
    "# Set the start date and end date\n",
    "startdate = dt.date(2011, 9, 1)\n",
    "enddate = dt.date(2021, 9, 30)\n",
    "\n",
    "# Filter for the required period\n",
    "df = df[startdate : enddate]"
   ]
  },
  {
   "cell_type": "code",
   "execution_count": 7,
   "id": "9c1b1174",
   "metadata": {},
   "outputs": [],
   "source": [
    "# Join the cash dataframe to df\n",
    "df = df.merge(df_sig[[ 'FXI']], how='left', on='Date')"
   ]
  },
  {
   "cell_type": "code",
   "execution_count": 8,
   "id": "52336ae0",
   "metadata": {},
   "outputs": [],
   "source": [
    "# Calculate the return for the index and add as a new variable\n",
    "df[\"FXI_Return\"] = (df[\"FXI\"] / df[\"FXI\"].shift(+1)) - 1.0"
   ]
  },
  {
   "cell_type": "code",
   "execution_count": 9,
   "id": "2c2c85dd",
   "metadata": {},
   "outputs": [],
   "source": [
    "# Include the leverage\n",
    "df = df.merge(df_lev[['Leverage']], how='left', on='Date')"
   ]
  },
  {
   "cell_type": "code",
   "execution_count": 11,
   "id": "a54fe6e1",
   "metadata": {},
   "outputs": [],
   "source": [
    "# Shift the leverage down one so that each day has the previous days leverage\n",
    "df[\"Leverage\"]=df[\"Leverage\"].shift(+1)"
   ]
  },
  {
   "cell_type": "code",
   "execution_count": 12,
   "id": "ddaa6aaf",
   "metadata": {},
   "outputs": [],
   "source": [
    "# Calculate the return for each day\n",
    "df[\"Return\"] = df[\"FXI_Return\"]"
   ]
  },
  {
   "cell_type": "code",
   "execution_count": 13,
   "id": "e83c0a8b",
   "metadata": {},
   "outputs": [],
   "source": [
    "# Convert the signal to long/short position\n",
    "df[\"Position\"] = (df[\"Signal\"]*2.0) - 1.0"
   ]
  },
  {
   "cell_type": "code",
   "execution_count": null,
   "id": "bd8ff9ab",
   "metadata": {},
   "outputs": [],
   "source": [
    "# Apply the position\n",
    "df[\"Return\"] = df[\"Return\"]*df[\"Position\"]"
   ]
  },
  {
   "cell_type": "code",
   "execution_count": 14,
   "id": "db8ffc5f",
   "metadata": {},
   "outputs": [],
   "source": [
    "# Apply the leverage\n",
    "df[\"Return\"] = df[\"Return\"]*df[\"Leverage\"]"
   ]
  },
  {
   "cell_type": "code",
   "execution_count": 15,
   "id": "02c89331",
   "metadata": {},
   "outputs": [],
   "source": [
    "# Set the first return to zero to get rid of the #NaN\n",
    "df[\"Return\"].iloc[0] = 0.0"
   ]
  },
  {
   "cell_type": "code",
   "execution_count": 16,
   "id": "f9011aea",
   "metadata": {},
   "outputs": [],
   "source": [
    "# Initialise the capital variable\n",
    "df[\"Capital\"] = 100.0"
   ]
  },
  {
   "cell_type": "code",
   "execution_count": 17,
   "id": "9fae8972",
   "metadata": {},
   "outputs": [],
   "source": [
    "# Loop through to calculate the capital each day\n",
    "for i in range(1, df.shape[0]):\n",
    "    df[\"Capital\"][i] = df[\"Capital\"][i-1]*(1.0 + df[\"Return\"][i])"
   ]
  },
  {
   "cell_type": "code",
   "execution_count": 18,
   "id": "f1d375f7",
   "metadata": {},
   "outputs": [],
   "source": [
    "# Save the data to excel file\n",
    "df.to_excel(\"China Returns and Capital.xlsx\")\n",
    "\n",
    "# Also save the data to pickle file\n",
    "df.to_pickle(\"China Returns and Capital.pickle\")"
   ]
  },
  {
   "cell_type": "code",
   "execution_count": 20,
   "id": "87a89e73",
   "metadata": {},
   "outputs": [
    {
     "data": {
      "text/html": [
       "<div>\n",
       "<style scoped>\n",
       "    .dataframe tbody tr th:only-of-type {\n",
       "        vertical-align: middle;\n",
       "    }\n",
       "\n",
       "    .dataframe tbody tr th {\n",
       "        vertical-align: top;\n",
       "    }\n",
       "\n",
       "    .dataframe thead th {\n",
       "        text-align: right;\n",
       "    }\n",
       "</style>\n",
       "<table border=\"1\" class=\"dataframe\">\n",
       "  <thead>\n",
       "    <tr style=\"text-align: right;\">\n",
       "      <th></th>\n",
       "      <th>Signal</th>\n",
       "      <th>FXI</th>\n",
       "      <th>FXI_Return</th>\n",
       "      <th>Leverage</th>\n",
       "      <th>Return</th>\n",
       "      <th>Position</th>\n",
       "      <th>Capital</th>\n",
       "    </tr>\n",
       "    <tr>\n",
       "      <th>Date</th>\n",
       "      <th></th>\n",
       "      <th></th>\n",
       "      <th></th>\n",
       "      <th></th>\n",
       "      <th></th>\n",
       "      <th></th>\n",
       "      <th></th>\n",
       "    </tr>\n",
       "  </thead>\n",
       "  <tbody>\n",
       "    <tr>\n",
       "      <th>2021-09-24</th>\n",
       "      <td>1.0</td>\n",
       "      <td>38.24</td>\n",
       "      <td>-0.020993</td>\n",
       "      <td>2.0</td>\n",
       "      <td>-0.041987</td>\n",
       "      <td>1.0</td>\n",
       "      <td>93.392242</td>\n",
       "    </tr>\n",
       "    <tr>\n",
       "      <th>2021-09-27</th>\n",
       "      <td>1.0</td>\n",
       "      <td>38.79</td>\n",
       "      <td>0.014383</td>\n",
       "      <td>2.0</td>\n",
       "      <td>0.028766</td>\n",
       "      <td>1.0</td>\n",
       "      <td>96.078734</td>\n",
       "    </tr>\n",
       "    <tr>\n",
       "      <th>2021-09-28</th>\n",
       "      <td>1.0</td>\n",
       "      <td>38.84</td>\n",
       "      <td>0.001289</td>\n",
       "      <td>2.0</td>\n",
       "      <td>0.002578</td>\n",
       "      <td>1.0</td>\n",
       "      <td>96.326423</td>\n",
       "    </tr>\n",
       "    <tr>\n",
       "      <th>2021-09-29</th>\n",
       "      <td>1.0</td>\n",
       "      <td>38.56</td>\n",
       "      <td>-0.007209</td>\n",
       "      <td>2.0</td>\n",
       "      <td>-0.014418</td>\n",
       "      <td>1.0</td>\n",
       "      <td>94.937577</td>\n",
       "    </tr>\n",
       "    <tr>\n",
       "      <th>2021-09-30</th>\n",
       "      <td>1.0</td>\n",
       "      <td>38.93</td>\n",
       "      <td>0.009595</td>\n",
       "      <td>2.0</td>\n",
       "      <td>0.019191</td>\n",
       "      <td>1.0</td>\n",
       "      <td>96.759512</td>\n",
       "    </tr>\n",
       "  </tbody>\n",
       "</table>\n",
       "</div>"
      ],
      "text/plain": [
       "            Signal    FXI  FXI_Return  Leverage    Return  Position    Capital\n",
       "Date                                                                          \n",
       "2021-09-24     1.0  38.24   -0.020993       2.0 -0.041987       1.0  93.392242\n",
       "2021-09-27     1.0  38.79    0.014383       2.0  0.028766       1.0  96.078734\n",
       "2021-09-28     1.0  38.84    0.001289       2.0  0.002578       1.0  96.326423\n",
       "2021-09-29     1.0  38.56   -0.007209       2.0 -0.014418       1.0  94.937577\n",
       "2021-09-30     1.0  38.93    0.009595       2.0  0.019191       1.0  96.759512"
      ]
     },
     "execution_count": 20,
     "metadata": {},
     "output_type": "execute_result"
    }
   ],
   "source": [
    "df.tail()"
   ]
  },
  {
   "cell_type": "code",
   "execution_count": null,
   "id": "323668cb",
   "metadata": {},
   "outputs": [],
   "source": []
  },
  {
   "cell_type": "code",
   "execution_count": 21,
   "id": "012c948b",
   "metadata": {},
   "outputs": [],
   "source": [
    "years = (enddate - startdate).days/365.25"
   ]
  },
  {
   "cell_type": "code",
   "execution_count": 22,
   "id": "832e9875",
   "metadata": {},
   "outputs": [
    {
     "data": {
      "text/plain": [
       "10.080766598220396"
      ]
     },
     "execution_count": 22,
     "metadata": {},
     "output_type": "execute_result"
    }
   ],
   "source": [
    "years"
   ]
  },
  {
   "cell_type": "code",
   "execution_count": null,
   "id": "8bef027d",
   "metadata": {},
   "outputs": [],
   "source": []
  },
  {
   "cell_type": "code",
   "execution_count": 23,
   "id": "5d36574b",
   "metadata": {},
   "outputs": [],
   "source": [
    "total_return = df.loc[[enddate]][\"Capital\"]/100.0"
   ]
  },
  {
   "cell_type": "code",
   "execution_count": 24,
   "id": "b16f2c8e",
   "metadata": {},
   "outputs": [
    {
     "data": {
      "text/plain": [
       "Date\n",
       "2021-09-30    0.967595\n",
       "Name: Capital, dtype: float64"
      ]
     },
     "execution_count": 24,
     "metadata": {},
     "output_type": "execute_result"
    }
   ],
   "source": [
    "total_return"
   ]
  },
  {
   "cell_type": "code",
   "execution_count": 25,
   "id": "938a60ac",
   "metadata": {},
   "outputs": [],
   "source": [
    "cagr = total_return**(1/years)-1.0"
   ]
  },
  {
   "cell_type": "code",
   "execution_count": 26,
   "id": "c1f29bc3",
   "metadata": {},
   "outputs": [
    {
     "data": {
      "text/plain": [
       "Date\n",
       "2021-09-30   -0.003262\n",
       "Name: Capital, dtype: float64"
      ]
     },
     "execution_count": 26,
     "metadata": {},
     "output_type": "execute_result"
    }
   ],
   "source": [
    "cagr"
   ]
  },
  {
   "cell_type": "code",
   "execution_count": 14,
   "id": "e7174f01",
   "metadata": {},
   "outputs": [
    {
     "data": {
      "text/plain": [
       "4"
      ]
     },
     "execution_count": 14,
     "metadata": {},
     "output_type": "execute_result"
    }
   ],
   "source": [
    "2+2"
   ]
  },
  {
   "cell_type": "code",
   "execution_count": 230,
   "id": "14e466ed",
   "metadata": {},
   "outputs": [],
   "source": [
    "df.to_excel(\"Returns and Capital.xlsx\")"
   ]
  }
 ],
 "metadata": {
  "kernelspec": {
   "display_name": "Python 3",
   "language": "python",
   "name": "python3"
  },
  "language_info": {
   "codemirror_mode": {
    "name": "ipython",
    "version": 3
   },
   "file_extension": ".py",
   "mimetype": "text/x-python",
   "name": "python",
   "nbconvert_exporter": "python",
   "pygments_lexer": "ipython3",
   "version": "3.8.8"
  }
 },
 "nbformat": 4,
 "nbformat_minor": 5
}
