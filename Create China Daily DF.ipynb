{
 "cells": [
  {
   "cell_type": "code",
   "execution_count": 7,
   "id": "54509a27",
   "metadata": {},
   "outputs": [],
   "source": [
    "import pandas as pd\n",
    "\n",
    "#Read in the data from each sheet in the workbook\n",
    "df = pd.read_excel(\"China Daily Data.xlsx\")\n",
    "\n",
    "df.set_index(\"Date\", inplace=True)\n",
    "\n",
    "# Save the dataframe to an excel file\n",
    "df.to_excel(\"China Daily Data.xlsx\")\n",
    "\n",
    "# Alco save the dataframe to a pickle file\n",
    "df.to_pickle(\"China Daily Data.pickle\")"
   ]
  },
  {
   "cell_type": "code",
   "execution_count": null,
   "id": "f8f126df",
   "metadata": {},
   "outputs": [],
   "source": []
  }
 ],
 "metadata": {
  "kernelspec": {
   "display_name": "Python 3",
   "language": "python",
   "name": "python3"
  },
  "language_info": {
   "codemirror_mode": {
    "name": "ipython",
    "version": 3
   },
   "file_extension": ".py",
   "mimetype": "text/x-python",
   "name": "python",
   "nbconvert_exporter": "python",
   "pygments_lexer": "ipython3",
   "version": "3.8.8"
  }
 },
 "nbformat": 4,
 "nbformat_minor": 5
}
