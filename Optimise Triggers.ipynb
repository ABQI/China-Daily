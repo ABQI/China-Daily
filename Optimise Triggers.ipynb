{
 "cells": [
  {
   "cell_type": "code",
   "execution_count": 1,
   "id": "d89bb615",
   "metadata": {},
   "outputs": [],
   "source": [
    "import pandas as pd\n",
    "import numpy as np\n",
    "import datetime as dt\n",
    "from scipy.optimize import minimize\n",
    "from scipy.optimize import basinhopping\n",
    "from scipy.optimize import brute\n",
    "import scipy.optimize as op"
   ]
  },
  {
   "cell_type": "code",
   "execution_count": 2,
   "id": "fcf3759a",
   "metadata": {},
   "outputs": [],
   "source": [
    "# Read in the necessary dataframes\n",
    "df_market = pd.read_pickle(\"US Sherlock Daily Data.pickle\")\n",
    "df_signals = pd.read_pickle(\"US Sherlock Daily Signals.pickle\")\n",
    "df_alloc = pd.read_pickle(\"US Sherlock Daily Allocations.pickle\")\n",
    "df_lev = pd.read_pickle(\"US Sherlock Daily Leverage.pickle\")"
   ]
  },
  {
   "cell_type": "code",
   "execution_count": 3,
   "id": "638517aa",
   "metadata": {},
   "outputs": [],
   "source": [
    "# Drop the variables we don\n",
    "df_market.drop(['VIX', 'VXN', 'RVX', 'VXc1', 'VXc2', 'VXc3',\n",
    "       'VXc4', 'VXc5', 'VXc6', 'VXc7', 'VXc8'], axis=1, inplace=True)\n",
    "\n",
    "\n",
    "df_signals.drop(['SPX', 'VXc1', 'VXc2', 'VXc3', 'VXc4', 'VXc5', 'VXc6', 'VXc7', 'VXc8',\n",
    "       'SPX_SMA_10', 'F2_vs_F1_Minus1', 'F3_vs_F2_Minus1',\n",
    "       'F4_vs_F3_Minus1', 'SHAPE'], axis=1, inplace=True)\n"
   ]
  },
  {
   "cell_type": "code",
   "execution_count": 4,
   "id": "b3df2cd9",
   "metadata": {},
   "outputs": [],
   "source": [
    "# Set the start date and end date\n",
    "startdate = dt.date(2008, 1, 1)\n",
    "enddate = dt.date(2021, 9, 3)\n",
    "delta = enddate - startdate\n",
    "days = delta.days\n",
    "years = days/365.25\n",
    "\n",
    "# Filter for the required period\n",
    "df_returns = df_market[startdate : enddate]\n",
    "df_signals = df_signals[startdate : enddate]"
   ]
  },
  {
   "cell_type": "code",
   "execution_count": 5,
   "id": "e2be5b58",
   "metadata": {},
   "outputs": [
    {
     "name": "stderr",
     "output_type": "stream",
     "text": [
      "<ipython-input-5-ac1a07a4f96f>:1: SettingWithCopyWarning: \n",
      "A value is trying to be set on a copy of a slice from a DataFrame.\n",
      "Try using .loc[row_indexer,col_indexer] = value instead\n",
      "\n",
      "See the caveats in the documentation: https://pandas.pydata.org/pandas-docs/stable/user_guide/indexing.html#returning-a-view-versus-a-copy\n",
      "  df_returns[\"SPX_Return\"] = (df_returns[\"SPX\"] / df_returns[\"SPX\"].shift(+1)) - 1.0\n",
      "<ipython-input-5-ac1a07a4f96f>:2: SettingWithCopyWarning: \n",
      "A value is trying to be set on a copy of a slice from a DataFrame.\n",
      "Try using .loc[row_indexer,col_indexer] = value instead\n",
      "\n",
      "See the caveats in the documentation: https://pandas.pydata.org/pandas-docs/stable/user_guide/indexing.html#returning-a-view-versus-a-copy\n",
      "  df_returns[\"NDX_Return\"] = (df_returns[\"NDX\"] / df_returns[\"NDX\"].shift(+1)) - 1.0\n",
      "<ipython-input-5-ac1a07a4f96f>:3: SettingWithCopyWarning: \n",
      "A value is trying to be set on a copy of a slice from a DataFrame.\n",
      "Try using .loc[row_indexer,col_indexer] = value instead\n",
      "\n",
      "See the caveats in the documentation: https://pandas.pydata.org/pandas-docs/stable/user_guide/indexing.html#returning-a-view-versus-a-copy\n",
      "  df_returns[\"RUT_Return\"] = (df_returns[\"RUT\"] / df_returns[\"RUT\"].shift(+1)) - 1.0\n"
     ]
    }
   ],
   "source": [
    "df_returns[\"SPX_Return\"] = (df_returns[\"SPX\"] / df_returns[\"SPX\"].shift(+1)) - 1.0\n",
    "df_returns[\"NDX_Return\"] = (df_returns[\"NDX\"] / df_returns[\"NDX\"].shift(+1)) - 1.0\n",
    "df_returns[\"RUT_Return\"] = (df_returns[\"RUT\"] / df_returns[\"RUT\"].shift(+1)) - 1.0"
   ]
  },
  {
   "cell_type": "code",
   "execution_count": 6,
   "id": "30e26ca0",
   "metadata": {},
   "outputs": [],
   "source": [
    "# Include the allocations \n",
    "df_returns = df_returns.merge(df_alloc[['SPX_Weight', 'NDX_Weight', 'RUT_Weight']], how='left', on='Date')"
   ]
  },
  {
   "cell_type": "code",
   "execution_count": null,
   "id": "288a14c3",
   "metadata": {},
   "outputs": [],
   "source": []
  },
  {
   "cell_type": "code",
   "execution_count": 7,
   "id": "7a186eb2",
   "metadata": {},
   "outputs": [],
   "source": [
    "# Shift the allocation weights down one so that each day has the previous days allocation\n",
    "df_returns[\"SPX_Weight\"]=df_returns[\"SPX_Weight\"].shift(+1)\n",
    "df_returns[\"NDX_Weight\"]=df_returns[\"NDX_Weight\"].shift(+1)\n",
    "df_returns[\"RUT_Weight\"]=df_returns[\"RUT_Weight\"].shift(+1)"
   ]
  },
  {
   "cell_type": "code",
   "execution_count": 8,
   "id": "17310ca8",
   "metadata": {},
   "outputs": [],
   "source": [
    "# Include the leverage\n",
    "df_returns = df_returns.merge(df_lev[['Leverage']], how='left', on='Date')"
   ]
  },
  {
   "cell_type": "code",
   "execution_count": 9,
   "id": "9191d180",
   "metadata": {},
   "outputs": [],
   "source": [
    "# Shift the leverage down one so that each day has the previous days leverage\n",
    "df_returns[\"Leverage\"]=df_returns[\"Leverage\"].shift(+1)"
   ]
  },
  {
   "cell_type": "code",
   "execution_count": 10,
   "id": "0c85ee86",
   "metadata": {},
   "outputs": [],
   "source": [
    "# Calculate the blended return for each day\n",
    "df_returns[\"Return\"] = df_returns[\"SPX_Return\"]*df_returns[\"SPX_Weight\"] \\\n",
    "                         + df_returns[\"NDX_Return\"]*df_returns[\"NDX_Weight\"] \\\n",
    "                         + df_returns[\"RUT_Return\"]*df_returns[\"RUT_Weight\"] "
   ]
  },
  {
   "cell_type": "code",
   "execution_count": 11,
   "id": "69442a7d",
   "metadata": {},
   "outputs": [],
   "source": [
    "# Apply the leverage\n",
    "df_returns[\"Return\"] = df_returns[\"Return\"]*df_returns[\"Leverage\"]"
   ]
  },
  {
   "cell_type": "code",
   "execution_count": 12,
   "id": "87af119f",
   "metadata": {},
   "outputs": [
    {
     "name": "stderr",
     "output_type": "stream",
     "text": [
      "/Users/brianhealy/opt/anaconda3/lib/python3.8/site-packages/pandas/core/indexing.py:1637: SettingWithCopyWarning: \n",
      "A value is trying to be set on a copy of a slice from a DataFrame\n",
      "\n",
      "See the caveats in the documentation: https://pandas.pydata.org/pandas-docs/stable/user_guide/indexing.html#returning-a-view-versus-a-copy\n",
      "  self._setitem_single_block(indexer, value, name)\n"
     ]
    }
   ],
   "source": [
    "# Set the first return to zero to get rid of the #NaN\n",
    "df_returns[\"Return\"].iloc[0] = 0.0\n",
    "\n",
    "returns_before_signal = df_returns[\"Return\"].to_numpy();"
   ]
  },
  {
   "cell_type": "code",
   "execution_count": null,
   "id": "43ca870f",
   "metadata": {},
   "outputs": [],
   "source": []
  },
  {
   "cell_type": "code",
   "execution_count": 13,
   "id": "bca718f2",
   "metadata": {},
   "outputs": [],
   "source": [
    "slopes = df_signals[['SHAPE_Slope_5', 'SHAPE_Slope_10', 'SHAPE_Slope_20',\n",
    "       'SHAPE_Slope_50', 'SPX_vs_SMA_10', 'SPX_vs_SMA_10']].to_numpy()"
   ]
  },
  {
   "cell_type": "code",
   "execution_count": 14,
   "id": "dd798cdb",
   "metadata": {},
   "outputs": [],
   "source": [
    "individual_signals = np.zeros(slopes.shape, dtype=np.int16)\n",
    "final_signals = np.zeros([slopes.shape[0]], dtype=np.int16)"
   ]
  },
  {
   "cell_type": "code",
   "execution_count": 15,
   "id": "452657a5",
   "metadata": {},
   "outputs": [],
   "source": [
    "# @nb.njit(fastmath=True,parallel=True,error_model='numpy')\n",
    "\n",
    "def get_signals( slopes, triggers ):\n",
    "    individual_signals[:, 0] = (slopes[:, 0] > triggers[0]); # 5d Slope - True if not breached\n",
    "    individual_signals[:, 1] = (slopes[:, 1] > triggers[1]); # 10d Slope - True if not breached\n",
    "    individual_signals[:, 2] = (slopes[:, 2] > triggers[2]); # 20d Slope - True if not breached\n",
    "    individual_signals[:, 3] = (slopes[:, 3] > triggers[3]); # 50d Slope - True if not breached\n",
    "    individual_signals[:, 4] = (slopes[:, 4] > triggers[4]); # SPX vs 10d SPX SMA - True if breached\n",
    "    individual_signals[:, 5] = (slopes[:, 5] < triggers[5]); # SPX vs 10d SPX SMA - True if breached\n",
    "    \n",
    "    final_signals[:] = 1*individual_signals[:, 0] + 1*individual_signals[:, 1] + 1*individual_signals[:, 2] + \\\n",
    "                        1*individual_signals[:, 3] - 3*individual_signals[:, 4] + 2*individual_signals[:, 5];\n",
    "    final_signals[:] = 1*(final_signals >= 2);     \n",
    "        \n",
    "    return final_signals"
   ]
  },
  {
   "cell_type": "code",
   "execution_count": 16,
   "id": "5589fb73",
   "metadata": {},
   "outputs": [],
   "source": [
    "def get_total_return( signals, returns_before_signals ):\n",
    "    \n",
    "    signals = np.roll(signals, shift=1)\n",
    "    signals[0] = 0.0\n",
    "    \n",
    "    # Apply the signal to the returns\n",
    "    returns = returns_before_signals * signals\n",
    "\n",
    "    # Then add one for capital calculation\n",
    "    returns = returns + 1.0\n",
    "    \n",
    "    result = np.prod(returns, axis=0)\n",
    "    \n",
    "    return result"
   ]
  },
  {
   "cell_type": "code",
   "execution_count": 17,
   "id": "474e41b6",
   "metadata": {},
   "outputs": [],
   "source": [
    "def get_cagr( total_return, years ):\n",
    "    \n",
    "    CAGR = total_return**(1/years) - 1.0\n",
    "    \n",
    "    return CAGR"
   ]
  },
  {
   "cell_type": "code",
   "execution_count": 18,
   "id": "f8bae5ab",
   "metadata": {},
   "outputs": [],
   "source": [
    "def opt( triggers, *args ):\n",
    "    # Unpack the arguments\n",
    "    slopes = args[0]\n",
    "    returns_before_signal = args[1]\n",
    "    years = args[2]\n",
    "        \n",
    "    final_signals = get_signals( slopes, triggers )\n",
    "    total_return = get_total_return( final_signals, returns_before_signal )\n",
    "    \n",
    "    return 1 - get_cagr( total_return, years)"
   ]
  },
  {
   "cell_type": "code",
   "execution_count": 43,
   "id": "ef7a2c8e",
   "metadata": {},
   "outputs": [],
   "source": []
  },
  {
   "cell_type": "markdown",
   "id": "851f451b",
   "metadata": {},
   "source": [
    "### Linear Optimisation"
   ]
  },
  {
   "cell_type": "code",
   "execution_count": null,
   "id": "c850becb",
   "metadata": {},
   "outputs": [],
   "source": [
    "initial_triggers = np.array([-0.01, 0.00, -0.00, -0.00, 1.0265, 0.9150])"
   ]
  },
  {
   "cell_type": "code",
   "execution_count": 85,
   "id": "ce95cb07",
   "metadata": {},
   "outputs": [
    {
     "name": "stdout",
     "output_type": "stream",
     "text": [
      "Optimization terminated successfully    (Exit mode 0)\n",
      "            Current function value: 0.7118728931712677\n",
      "            Iterations: 1\n",
      "            Function evaluations: 7\n",
      "            Gradient evaluations: 1\n"
     ]
    }
   ],
   "source": [
    "res = minimize(opt, initial_triggers, args=( slopes, returns_before_signal, years ), method='SLSQP', options={'maxiter': 1000, 'disp': True})"
   ]
  },
  {
   "cell_type": "code",
   "execution_count": 82,
   "id": "a0691553",
   "metadata": {},
   "outputs": [],
   "source": [
    "optimal_triggers = res.x"
   ]
  },
  {
   "cell_type": "code",
   "execution_count": 84,
   "id": "d3d08c0c",
   "metadata": {},
   "outputs": [
    {
     "data": {
      "text/plain": [
       "array([-0.01  ,  0.    , -0.    , -0.    ,  1.0265,  0.915 ])"
      ]
     },
     "execution_count": 84,
     "metadata": {},
     "output_type": "execute_result"
    }
   ],
   "source": [
    "optimal_triggers"
   ]
  },
  {
   "cell_type": "code",
   "execution_count": null,
   "id": "4e665f41",
   "metadata": {},
   "outputs": [],
   "source": []
  },
  {
   "cell_type": "markdown",
   "id": "62b29bda",
   "metadata": {},
   "source": [
    "### Non-Linear Optimisation"
   ]
  },
  {
   "cell_type": "code",
   "execution_count": 62,
   "id": "0d17e3e5",
   "metadata": {},
   "outputs": [],
   "source": [
    "minimizer_kwargs = {\"method\": \"L-BFGS-B\", \"args\": (slopes, returns_before_signal, years)}"
   ]
  },
  {
   "cell_type": "code",
   "execution_count": 73,
   "id": "d6efa872",
   "metadata": {},
   "outputs": [],
   "source": [
    "res2 = basinhopping(opt, initial_triggers, niter=10000,  T=0.00001, minimizer_kwargs=minimizer_kwargs)"
   ]
  },
  {
   "cell_type": "code",
   "execution_count": 74,
   "id": "bdfb8aa8",
   "metadata": {},
   "outputs": [],
   "source": [
    "optimal_triggers = res2.x"
   ]
  },
  {
   "cell_type": "code",
   "execution_count": 75,
   "id": "6967c7ca",
   "metadata": {},
   "outputs": [
    {
     "data": {
      "text/plain": [
       "array([-0.17187167,  0.01946638, -0.006677  ,  0.2096076 ,  1.24657332,\n",
       "        0.88493292])"
      ]
     },
     "execution_count": 75,
     "metadata": {},
     "output_type": "execute_result"
    }
   ],
   "source": [
    "optimal_triggers"
   ]
  },
  {
   "cell_type": "code",
   "execution_count": null,
   "id": "89ac57ef",
   "metadata": {},
   "outputs": [],
   "source": [
    "Trigger_Slope_5 = -0.0145\n",
    "Trigger_Slope_10 = 0.0014\n",
    "Trigger_Slope_20 = -0.0001\n",
    "Trigger_Slope_50 = -0.0004\n",
    "Trigger_SPX_vs_SMA_10_Upper = 1.0265\n",
    "Trigger_SPX_vs_SMA_10_Lower = 0.9150"
   ]
  },
  {
   "cell_type": "code",
   "execution_count": null,
   "id": "bce45cff",
   "metadata": {},
   "outputs": [],
   "source": []
  },
  {
   "cell_type": "markdown",
   "id": "20c37607",
   "metadata": {},
   "source": [
    "### Brute Force"
   ]
  },
  {
   "cell_type": "markdown",
   "id": "62a45dae",
   "metadata": {},
   "source": [
    "Current CAGR = 43.83%"
   ]
  },
  {
   "cell_type": "code",
   "execution_count": 19,
   "id": "72397368",
   "metadata": {},
   "outputs": [],
   "source": [
    "brute_ranges = ((-0.03, 0.03), (-0.01, 0.01), (-0.01, 0.01), (-0.01, 0.01), (1.00, 1.05), (0.90, 0.95))"
   ]
  },
  {
   "cell_type": "code",
   "execution_count": 24,
   "id": "8872faf9",
   "metadata": {},
   "outputs": [
    {
     "ename": "KeyboardInterrupt",
     "evalue": "",
     "output_type": "error",
     "traceback": [
      "\u001b[0;31m---------------------------------------------------------------------------\u001b[0m",
      "\u001b[0;31mKeyboardInterrupt\u001b[0m                         Traceback (most recent call last)",
      "\u001b[0;32m<ipython-input-24-4f43692d7b75>\u001b[0m in \u001b[0;36m<module>\u001b[0;34m\u001b[0m\n\u001b[0;32m----> 1\u001b[0;31m \u001b[0mres3\u001b[0m \u001b[0;34m=\u001b[0m \u001b[0mbrute\u001b[0m\u001b[0;34m(\u001b[0m\u001b[0mopt\u001b[0m\u001b[0;34m,\u001b[0m \u001b[0mbrute_ranges\u001b[0m\u001b[0;34m,\u001b[0m \u001b[0margs\u001b[0m\u001b[0;34m=\u001b[0m\u001b[0;34m(\u001b[0m \u001b[0mslopes\u001b[0m\u001b[0;34m,\u001b[0m \u001b[0mreturns_before_signal\u001b[0m\u001b[0;34m,\u001b[0m \u001b[0myears\u001b[0m\u001b[0;34m)\u001b[0m \u001b[0;34m,\u001b[0m \u001b[0mNs\u001b[0m\u001b[0;34m=\u001b[0m\u001b[0;36m20\u001b[0m\u001b[0;34m,\u001b[0m \u001b[0mfull_output\u001b[0m\u001b[0;34m=\u001b[0m\u001b[0;32mTrue\u001b[0m\u001b[0;34m,\u001b[0m \u001b[0mfinish\u001b[0m\u001b[0;34m=\u001b[0m\u001b[0;32mNone\u001b[0m\u001b[0;34m)\u001b[0m\u001b[0;34m\u001b[0m\u001b[0;34m\u001b[0m\u001b[0m\n\u001b[0m",
      "\u001b[0;32m~/opt/anaconda3/lib/python3.8/site-packages/scipy/optimize/optimize.py\u001b[0m in \u001b[0;36mbrute\u001b[0;34m(func, ranges, args, Ns, full_output, finish, disp, workers)\u001b[0m\n\u001b[1;32m   3260\u001b[0m     \u001b[0;31m# iterate over input arrays, possibly in parallel\u001b[0m\u001b[0;34m\u001b[0m\u001b[0;34m\u001b[0m\u001b[0;34m\u001b[0m\u001b[0m\n\u001b[1;32m   3261\u001b[0m     \u001b[0;32mwith\u001b[0m \u001b[0mMapWrapper\u001b[0m\u001b[0;34m(\u001b[0m\u001b[0mpool\u001b[0m\u001b[0;34m=\u001b[0m\u001b[0mworkers\u001b[0m\u001b[0;34m)\u001b[0m \u001b[0;32mas\u001b[0m \u001b[0mmapper\u001b[0m\u001b[0;34m:\u001b[0m\u001b[0;34m\u001b[0m\u001b[0;34m\u001b[0m\u001b[0m\n\u001b[0;32m-> 3262\u001b[0;31m         \u001b[0mJout\u001b[0m \u001b[0;34m=\u001b[0m \u001b[0mnp\u001b[0m\u001b[0;34m.\u001b[0m\u001b[0marray\u001b[0m\u001b[0;34m(\u001b[0m\u001b[0mlist\u001b[0m\u001b[0;34m(\u001b[0m\u001b[0mmapper\u001b[0m\u001b[0;34m(\u001b[0m\u001b[0mwrapped_func\u001b[0m\u001b[0;34m,\u001b[0m \u001b[0mgrid\u001b[0m\u001b[0;34m)\u001b[0m\u001b[0;34m)\u001b[0m\u001b[0;34m)\u001b[0m\u001b[0;34m\u001b[0m\u001b[0;34m\u001b[0m\u001b[0m\n\u001b[0m\u001b[1;32m   3263\u001b[0m         \u001b[0;32mif\u001b[0m \u001b[0;34m(\u001b[0m\u001b[0mN\u001b[0m \u001b[0;34m==\u001b[0m \u001b[0;36m1\u001b[0m\u001b[0;34m)\u001b[0m\u001b[0;34m:\u001b[0m\u001b[0;34m\u001b[0m\u001b[0;34m\u001b[0m\u001b[0m\n\u001b[1;32m   3264\u001b[0m             \u001b[0mgrid\u001b[0m \u001b[0;34m=\u001b[0m \u001b[0;34m(\u001b[0m\u001b[0mgrid\u001b[0m\u001b[0;34m,\u001b[0m\u001b[0;34m)\u001b[0m\u001b[0;34m\u001b[0m\u001b[0;34m\u001b[0m\u001b[0m\n",
      "\u001b[0;32m~/opt/anaconda3/lib/python3.8/site-packages/scipy/optimize/optimize.py\u001b[0m in \u001b[0;36m__call__\u001b[0;34m(self, x)\u001b[0m\n\u001b[1;32m   3332\u001b[0m     \u001b[0;32mdef\u001b[0m \u001b[0m__call__\u001b[0m\u001b[0;34m(\u001b[0m\u001b[0mself\u001b[0m\u001b[0;34m,\u001b[0m \u001b[0mx\u001b[0m\u001b[0;34m)\u001b[0m\u001b[0;34m:\u001b[0m\u001b[0;34m\u001b[0m\u001b[0;34m\u001b[0m\u001b[0m\n\u001b[1;32m   3333\u001b[0m         \u001b[0;31m# flatten needed for one dimensional case.\u001b[0m\u001b[0;34m\u001b[0m\u001b[0;34m\u001b[0m\u001b[0;34m\u001b[0m\u001b[0m\n\u001b[0;32m-> 3334\u001b[0;31m         \u001b[0;32mreturn\u001b[0m \u001b[0mself\u001b[0m\u001b[0;34m.\u001b[0m\u001b[0mf\u001b[0m\u001b[0;34m(\u001b[0m\u001b[0mnp\u001b[0m\u001b[0;34m.\u001b[0m\u001b[0masarray\u001b[0m\u001b[0;34m(\u001b[0m\u001b[0mx\u001b[0m\u001b[0;34m)\u001b[0m\u001b[0;34m.\u001b[0m\u001b[0mflatten\u001b[0m\u001b[0;34m(\u001b[0m\u001b[0;34m)\u001b[0m\u001b[0;34m,\u001b[0m \u001b[0;34m*\u001b[0m\u001b[0mself\u001b[0m\u001b[0;34m.\u001b[0m\u001b[0margs\u001b[0m\u001b[0;34m)\u001b[0m\u001b[0;34m\u001b[0m\u001b[0;34m\u001b[0m\u001b[0m\n\u001b[0m\u001b[1;32m   3335\u001b[0m \u001b[0;34m\u001b[0m\u001b[0m\n\u001b[1;32m   3336\u001b[0m \u001b[0;34m\u001b[0m\u001b[0m\n",
      "\u001b[0;32m<ipython-input-18-32df40c3efd0>\u001b[0m in \u001b[0;36mopt\u001b[0;34m(triggers, *args)\u001b[0m\n\u001b[1;32m      5\u001b[0m     \u001b[0myears\u001b[0m \u001b[0;34m=\u001b[0m \u001b[0margs\u001b[0m\u001b[0;34m[\u001b[0m\u001b[0;36m2\u001b[0m\u001b[0;34m]\u001b[0m\u001b[0;34m\u001b[0m\u001b[0;34m\u001b[0m\u001b[0m\n\u001b[1;32m      6\u001b[0m \u001b[0;34m\u001b[0m\u001b[0m\n\u001b[0;32m----> 7\u001b[0;31m     \u001b[0mfinal_signals\u001b[0m \u001b[0;34m=\u001b[0m \u001b[0mget_signals\u001b[0m\u001b[0;34m(\u001b[0m \u001b[0mslopes\u001b[0m\u001b[0;34m,\u001b[0m \u001b[0mtriggers\u001b[0m \u001b[0;34m)\u001b[0m\u001b[0;34m\u001b[0m\u001b[0;34m\u001b[0m\u001b[0m\n\u001b[0m\u001b[1;32m      8\u001b[0m     \u001b[0mtotal_return\u001b[0m \u001b[0;34m=\u001b[0m \u001b[0mget_total_return\u001b[0m\u001b[0;34m(\u001b[0m \u001b[0mfinal_signals\u001b[0m\u001b[0;34m,\u001b[0m \u001b[0mreturns_before_signal\u001b[0m \u001b[0;34m)\u001b[0m\u001b[0;34m\u001b[0m\u001b[0;34m\u001b[0m\u001b[0m\n\u001b[1;32m      9\u001b[0m \u001b[0;34m\u001b[0m\u001b[0m\n",
      "\u001b[0;32m<ipython-input-15-b312c185e209>\u001b[0m in \u001b[0;36mget_signals\u001b[0;34m(slopes, triggers)\u001b[0m\n\u001b[1;32m      6\u001b[0m     \u001b[0mindividual_signals\u001b[0m\u001b[0;34m[\u001b[0m\u001b[0;34m:\u001b[0m\u001b[0;34m,\u001b[0m \u001b[0;36m2\u001b[0m\u001b[0;34m]\u001b[0m \u001b[0;34m=\u001b[0m \u001b[0;34m(\u001b[0m\u001b[0mslopes\u001b[0m\u001b[0;34m[\u001b[0m\u001b[0;34m:\u001b[0m\u001b[0;34m,\u001b[0m \u001b[0;36m2\u001b[0m\u001b[0;34m]\u001b[0m \u001b[0;34m>\u001b[0m \u001b[0mtriggers\u001b[0m\u001b[0;34m[\u001b[0m\u001b[0;36m2\u001b[0m\u001b[0;34m]\u001b[0m\u001b[0;34m)\u001b[0m\u001b[0;34m;\u001b[0m \u001b[0;31m# 20d Slope - True if not breached\u001b[0m\u001b[0;34m\u001b[0m\u001b[0;34m\u001b[0m\u001b[0m\n\u001b[1;32m      7\u001b[0m     \u001b[0mindividual_signals\u001b[0m\u001b[0;34m[\u001b[0m\u001b[0;34m:\u001b[0m\u001b[0;34m,\u001b[0m \u001b[0;36m3\u001b[0m\u001b[0;34m]\u001b[0m \u001b[0;34m=\u001b[0m \u001b[0;34m(\u001b[0m\u001b[0mslopes\u001b[0m\u001b[0;34m[\u001b[0m\u001b[0;34m:\u001b[0m\u001b[0;34m,\u001b[0m \u001b[0;36m3\u001b[0m\u001b[0;34m]\u001b[0m \u001b[0;34m>\u001b[0m \u001b[0mtriggers\u001b[0m\u001b[0;34m[\u001b[0m\u001b[0;36m3\u001b[0m\u001b[0;34m]\u001b[0m\u001b[0;34m)\u001b[0m\u001b[0;34m;\u001b[0m \u001b[0;31m# 50d Slope - True if not breached\u001b[0m\u001b[0;34m\u001b[0m\u001b[0;34m\u001b[0m\u001b[0m\n\u001b[0;32m----> 8\u001b[0;31m     \u001b[0mindividual_signals\u001b[0m\u001b[0;34m[\u001b[0m\u001b[0;34m:\u001b[0m\u001b[0;34m,\u001b[0m \u001b[0;36m4\u001b[0m\u001b[0;34m]\u001b[0m \u001b[0;34m=\u001b[0m \u001b[0;34m(\u001b[0m\u001b[0mslopes\u001b[0m\u001b[0;34m[\u001b[0m\u001b[0;34m:\u001b[0m\u001b[0;34m,\u001b[0m \u001b[0;36m4\u001b[0m\u001b[0;34m]\u001b[0m \u001b[0;34m>\u001b[0m \u001b[0mtriggers\u001b[0m\u001b[0;34m[\u001b[0m\u001b[0;36m4\u001b[0m\u001b[0;34m]\u001b[0m\u001b[0;34m)\u001b[0m\u001b[0;34m;\u001b[0m \u001b[0;31m# SPX vs 10d SPX SMA - True if breached\u001b[0m\u001b[0;34m\u001b[0m\u001b[0;34m\u001b[0m\u001b[0m\n\u001b[0m\u001b[1;32m      9\u001b[0m     \u001b[0mindividual_signals\u001b[0m\u001b[0;34m[\u001b[0m\u001b[0;34m:\u001b[0m\u001b[0;34m,\u001b[0m \u001b[0;36m5\u001b[0m\u001b[0;34m]\u001b[0m \u001b[0;34m=\u001b[0m \u001b[0;34m(\u001b[0m\u001b[0mslopes\u001b[0m\u001b[0;34m[\u001b[0m\u001b[0;34m:\u001b[0m\u001b[0;34m,\u001b[0m \u001b[0;36m5\u001b[0m\u001b[0;34m]\u001b[0m \u001b[0;34m<\u001b[0m \u001b[0mtriggers\u001b[0m\u001b[0;34m[\u001b[0m\u001b[0;36m5\u001b[0m\u001b[0;34m]\u001b[0m\u001b[0;34m)\u001b[0m\u001b[0;34m;\u001b[0m \u001b[0;31m# SPX vs 10d SPX SMA - True if breached\u001b[0m\u001b[0;34m\u001b[0m\u001b[0;34m\u001b[0m\u001b[0m\n\u001b[1;32m     10\u001b[0m \u001b[0;34m\u001b[0m\u001b[0m\n",
      "\u001b[0;31mKeyboardInterrupt\u001b[0m: "
     ]
    }
   ],
   "source": [
    "res3 = brute(opt, brute_ranges, args=( slopes, returns_before_signal, years) , Ns=20, full_output=True, finish=None)"
   ]
  },
  {
   "cell_type": "code",
   "execution_count": 21,
   "id": "a4da93cb",
   "metadata": {},
   "outputs": [
    {
     "data": {
      "text/plain": [
       "array([-0.00333333,  0.00555556, -0.00555556, -0.00111111,  1.02777778,\n",
       "        0.91666667])"
      ]
     },
     "execution_count": 21,
     "metadata": {},
     "output_type": "execute_result"
    }
   ],
   "source": [
    "res3[0]"
   ]
  },
  {
   "cell_type": "code",
   "execution_count": 23,
   "id": "a5057c8f",
   "metadata": {},
   "outputs": [
    {
     "data": {
      "text/plain": [
       "0.42769830833667655"
      ]
     },
     "execution_count": 23,
     "metadata": {},
     "output_type": "execute_result"
    }
   ],
   "source": [
    "1-res3[1]"
   ]
  },
  {
   "cell_type": "code",
   "execution_count": null,
   "id": "f7b84cb3",
   "metadata": {},
   "outputs": [],
   "source": []
  },
  {
   "cell_type": "code",
   "execution_count": null,
   "id": "3296d0bd",
   "metadata": {},
   "outputs": [],
   "source": []
  },
  {
   "cell_type": "code",
   "execution_count": null,
   "id": "ca3bb6c9",
   "metadata": {},
   "outputs": [],
   "source": []
  },
  {
   "cell_type": "code",
   "execution_count": null,
   "id": "859d11fa",
   "metadata": {},
   "outputs": [],
   "source": []
  },
  {
   "cell_type": "code",
   "execution_count": 76,
   "id": "f174ef0f",
   "metadata": {},
   "outputs": [],
   "source": [
    "optimal_signals = get_signals(slopes, optimal_triggers)"
   ]
  },
  {
   "cell_type": "code",
   "execution_count": 77,
   "id": "61df1d2c",
   "metadata": {},
   "outputs": [],
   "source": [
    "optimal_total_return = get_total_return(optimal_signals, returns_before_signal)"
   ]
  },
  {
   "cell_type": "code",
   "execution_count": 78,
   "id": "0b564d5e",
   "metadata": {},
   "outputs": [],
   "source": [
    "optimal_cagr = get_cagr(optimal_total_return, years)"
   ]
  },
  {
   "cell_type": "code",
   "execution_count": 79,
   "id": "1a1709ee",
   "metadata": {},
   "outputs": [
    {
     "data": {
      "text/plain": [
       "53.75021072758929"
      ]
     },
     "execution_count": 79,
     "metadata": {},
     "output_type": "execute_result"
    }
   ],
   "source": [
    "optimal_total_return"
   ]
  },
  {
   "cell_type": "code",
   "execution_count": 80,
   "id": "91a899b5",
   "metadata": {},
   "outputs": [
    {
     "data": {
      "text/plain": [
       "0.33830819976542936"
      ]
     },
     "execution_count": 80,
     "metadata": {},
     "output_type": "execute_result"
    }
   ],
   "source": [
    "optimal_cagr"
   ]
  },
  {
   "cell_type": "code",
   "execution_count": null,
   "id": "67489fbe",
   "metadata": {},
   "outputs": [],
   "source": []
  },
  {
   "cell_type": "code",
   "execution_count": null,
   "id": "14f407f3",
   "metadata": {},
   "outputs": [],
   "source": []
  },
  {
   "cell_type": "code",
   "execution_count": 24,
   "id": "d6b30f81",
   "metadata": {},
   "outputs": [],
   "source": [
    "res.x.tofile('triggers.csv', sep = ',')"
   ]
  },
  {
   "cell_type": "code",
   "execution_count": 57,
   "id": "933df148",
   "metadata": {},
   "outputs": [],
   "source": [
    "df_1 = pd.DataFrame(returns_before_signal)\n",
    "df_2 = pd.DataFrame(individual_signals)\n",
    "df_3 = pd.DataFrame(final_signals)"
   ]
  },
  {
   "cell_type": "code",
   "execution_count": 47,
   "id": "646db471",
   "metadata": {},
   "outputs": [],
   "source": [
    "df_1.to_excel(\"Returns before signal.xlsx\")"
   ]
  },
  {
   "cell_type": "code",
   "execution_count": 48,
   "id": "97744e86",
   "metadata": {},
   "outputs": [],
   "source": [
    "df_2.to_excel(\"Individual signals.xlsx\")"
   ]
  },
  {
   "cell_type": "code",
   "execution_count": 49,
   "id": "91f566fc",
   "metadata": {},
   "outputs": [],
   "source": [
    "df_3.to_excel(\"Final Signals.xlsx\")"
   ]
  },
  {
   "cell_type": "code",
   "execution_count": null,
   "id": "83bbc12e",
   "metadata": {},
   "outputs": [],
   "source": []
  }
 ],
 "metadata": {
  "kernelspec": {
   "display_name": "Python 3",
   "language": "python",
   "name": "python3"
  },
  "language_info": {
   "codemirror_mode": {
    "name": "ipython",
    "version": 3
   },
   "file_extension": ".py",
   "mimetype": "text/x-python",
   "name": "python",
   "nbconvert_exporter": "python",
   "pygments_lexer": "ipython3",
   "version": "3.8.8"
  }
 },
 "nbformat": 4,
 "nbformat_minor": 5
}
