{
 "cells": [
  {
   "cell_type": "code",
   "execution_count": 3,
   "id": "848c1a94",
   "metadata": {},
   "outputs": [],
   "source": [
    "import pandas as pd\n",
    "import numpy as np\n",
    "from statistics import NormalDist\n",
    "\n",
    "# Retrieve the allocation df\n",
    "df = pd.read_pickle(\"China Daily Signals.pickle\")\n",
    "\n",
    "# Get the tables containing the leverage\n",
    "leverage_table_long = pd.read_excel(\"Leverage Tables - China.xlsx\", sheet_name=\"Long Leverage\")\n",
    "leverage_table_short = pd.read_excel(\"Leverage Tables - China.xlsx\", sheet_name=\"Short Leverage\")\n",
    "\n",
    "df = pd.DataFrame(data = df[[\"VXFXI\", \"Signal\"]])\n",
    "\n",
    "# Calculate the 9d rolling window mean for VXFXI\n",
    "df[\"VXFXI_SMA_9\"] = df[\"VXFXI\"].rolling(9).mean()\n",
    "\n",
    "# Calculate the 9d rolling window standard deviation for VXFXI\n",
    "df[\"VXFXI_StdDev_9\"] = df[\"VXFXI\"].rolling(9).std()\n",
    "\n",
    "# Calculate Prob(SMA < x) for SMA ~ N( 9d rolling mean, 9d rolling standard deviation )\n",
    "df[\"VXFXI_CumProb\"] = df.apply(lambda x: NormalDist(x[\"VXFXI_SMA_9\"], x[\"VXFXI_StdDev_9\"]).cdf(x[\"VXFXI\"]), axis=1)\n",
    "\n",
    "\n",
    "# function: lookup_leverage\n",
    "# purpose: lookup and retrieve the leverage corresponding to a given weighted probability\n",
    "# inputs:\n",
    "#        cum_prob (double) - required cumulative probability for which leverage is required\n",
    "#        signal (int)      - current signal (1 = long / 0 = short)\n",
    "# returns:\n",
    "#        leverage (double) - corresponding leverage\n",
    "def lookup_leverage(cum_prob, signal):\n",
    "    if(np.isnan(cum_prob)):\n",
    "        return 0.0\n",
    "    if(signal == 1):\n",
    "        match = (leverage_table_long[\"Lower\"] <= cum_prob) & (leverage_table_long[\"Upper\"] > cum_prob)\n",
    "        lev = leverage_table_long[\"Leverage\"][match]\n",
    "    else:\n",
    "        match = (leverage_table_short[\"Lower\"] <= cum_prob) & (leverage_table_short[\"Upper\"] > cum_prob)\n",
    "        lev = leverage_table_short[\"Leverage\"][match]\n",
    "    return lev.values[0]\n",
    "\n",
    "# Get the leverage for each date and include in column\n",
    "df[\"Leverage\"] = df.apply(lambda x: lookup_leverage(x[\"VXFXI_CumProb\"], x[\"Signal\"]), axis=1)\n",
    "\n",
    "# Save the leverage to an excel file\n",
    "df.to_excel(\"China Daily Leverage.xlsx\")\n",
    "\n",
    "# Alco save the allocations to a leverage file\n",
    "df.to_pickle(\"China Daily Leverage.pickle\")\n",
    "\n"
   ]
  },
  {
   "cell_type": "code",
   "execution_count": null,
   "id": "d065842b",
   "metadata": {},
   "outputs": [],
   "source": []
  }
 ],
 "metadata": {
  "kernelspec": {
   "display_name": "Python 3",
   "language": "python",
   "name": "python3"
  },
  "language_info": {
   "codemirror_mode": {
    "name": "ipython",
    "version": 3
   },
   "file_extension": ".py",
   "mimetype": "text/x-python",
   "name": "python",
   "nbconvert_exporter": "python",
   "pygments_lexer": "ipython3",
   "version": "3.8.8"
  }
 },
 "nbformat": 4,
 "nbformat_minor": 5
}
